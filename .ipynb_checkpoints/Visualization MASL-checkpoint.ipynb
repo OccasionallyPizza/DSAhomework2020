{
 "cells": [
  {
   "cell_type": "code",
   "execution_count": 1,
   "metadata": {},
   "outputs": [],
   "source": [
    "#importing matplotlib & seaborn\n",
    "import matplotlib.pyplot as plt\n",
    "import seaborn as sns\n",
    "import numpy as np\n",
    "import pandas as pd"
   ]
  },
  {
   "cell_type": "code",
   "execution_count": 2,
   "metadata": {},
   "outputs": [],
   "source": [
    "#read the CSV that's in the same folder |||| updating to use the csv from GIT\n",
    "#LendingClubData = pd.read_csv('loans_2007.csv', delimiter=',')\n",
    "url='https://raw.githubusercontent.com/OccasionallyPizza/DSAhomework2020/master/loans_2007.csv'\n",
    "LendingClubData = pd.read_csv(url, delimiter=',')"
   ]
  },
  {
   "cell_type": "code",
   "execution_count": 3,
   "metadata": {},
   "outputs": [
    {
     "data": {
      "text/plain": [
       "(array([5020., 9840., 8084., 5037., 4080., 3097., 1198., 1688.,  458.,\n",
       "         750.]),\n",
       " array([  500.,  3950.,  7400., 10850., 14300., 17750., 21200., 24650.,\n",
       "        28100., 31550., 35000.]),\n",
       " <a list of 10 Patch objects>)"
      ]
     },
     "execution_count": 3,
     "metadata": {},
     "output_type": "execute_result"
    },
    {
     "data": {
      "image/png": "[encoded data removed]",
      "text/plain": [
       "<Figure size 432x288 with 1 Axes>"
      ]
     },
     "metadata": {
      "needs_background": "light"
     },
     "output_type": "display_data"
    }
   ],
   "source": [
    "#prints a histogram for loan amount\n",
    "plt.hist(LendingClubData.loan_amnt)"
   ]
  },
  {
   "cell_type": "code",
   "execution_count": null,
   "metadata": {},
   "outputs": [],
   "source": [
    "#prints a bar chart with sum of loan amount per purpose\n",
    "PurposeRows = [col for col in LendingClubData.columns if 'purpose' in col]\n",
    "#stole this from someone's homework, thanks peergrade :) this gets me all column names with 'purpose' in an array\n",
    "y = list([])\n",
    "for row in PurposeRows:\n",
    "    sum = 0\n",
    "    for i in LendingClubData.index:\n",
    "        if LendingClubData.iloc[i][row] == 1.0:\n",
    "            sum = sum + int(LendingClubData.iloc[i]['loan_amnt'])\n",
    "    y.append(sum)"
   ]
  },
  {
   "cell_type": "code",
   "execution_count": null,
   "metadata": {},
   "outputs": [],
   "source": [
    "#splitting the cell because the big calculation of y is annoying :)\n",
    "TempBarTable = pd.DataFrame(\n",
    "    {'sum':y},index = PurposeRows)\n",
    "#ugly barchart incoming, technically the values are not wrong :) (unless my calculator doesn't work)\n",
    "TempBarTable.plot.bar()"
   ]
  },
  {
   "cell_type": "code",
   "execution_count": 4,
   "metadata": {},
   "outputs": [
    {
     "data": {
      "text/plain": [
       "{'whiskers': [<matplotlib.lines.Line2D at 0x1a1a098a50>,\n",
       "  <matplotlib.lines.Line2D at 0x1a1a0b0bd0>],\n",
       " 'caps': [<matplotlib.lines.Line2D at 0x1a1a0988d0>,\n",
       "  <matplotlib.lines.Line2D at 0x1a1a0b9610>],\n",
       " 'boxes': [<matplotlib.lines.Line2D at 0x1a1a098a10>],\n",
       " 'medians': [<matplotlib.lines.Line2D at 0x1a1a0b9b50>],\n",
       " 'fliers': [<matplotlib.lines.Line2D at 0x1a1a0b0c50>],\n",
       " 'means': []}"
      ]
     },
     "execution_count": 4,
     "metadata": {},
     "output_type": "execute_result"
    },
    {
     "data": {
      "image/png": "[encoded data removed]",
      "text/plain": [
       "<Figure size 432x288 with 1 Axes>"
      ]
     },
     "metadata": {
      "needs_background": "light"
     },
     "output_type": "display_data"
    }
   ],
   "source": [
    "#prints a boxplot for loan amount, print median + min + max + Q1+ Q3 + outliers and comment your findings\n",
    "plt.boxplot(LendingClubData['loan_amnt'])"
   ]
  },
  {
   "cell_type": "code",
   "execution_count": 8,
   "metadata": {},
   "outputs": [
    {
     "ename": "SyntaxError",
     "evalue": "invalid syntax (<ipython-input-8-7f3c11cfc3f9>, line 2)",
     "output_type": "error",
     "traceback": [
      "\u001b[0;36m  File \u001b[0;32m\"<ipython-input-8-7f3c11cfc3f9>\"\u001b[0;36m, line \u001b[0;32m2\u001b[0m\n\u001b[0;31m    LendingClubData['purpose']=LendingClubData['purpose'].apply(lambda x: x.name if x=='1.0'and x.name in PurposeRows)\u001b[0m\n\u001b[0m                                                                                                                     ^\u001b[0m\n\u001b[0;31mSyntaxError\u001b[0m\u001b[0;31m:\u001b[0m invalid syntax\n"
     ]
    }
   ],
   "source": [
    "#can't get this to work :(\n",
    "LendingClubData['purpose']=LendingClubData['purpose'].apply(lambda x: x.name if x=='1.0'and x.name in PurposeRows)"
   ]
  },
  {
   "cell_type": "code",
   "execution_count": null,
   "metadata": {},
   "outputs": [],
   "source": [
    "#print scatter plot for loans (y-axis for loans amount, x-axis for loan repayment term, color for purpose)\n",
    "#TermRows = [col for col in LendingClubData.columns if 'term_' in col]\n",
    "#sns.scatterplot(x=TermRows, y=LendingClubData.loan_amnt, data=LendingClubData)"
   ]
  }
 ],
 "metadata": {
  "kernelspec": {
   "display_name": "Python 3",
   "language": "python",
   "name": "python3"
  },
  "language_info": {
   "codemirror_mode": {
    "name": "ipython",
    "version": 3
   },
   "file_extension": ".py",
   "mimetype": "text/x-python",
   "name": "python",
   "nbconvert_exporter": "python",
   "pygments_lexer": "ipython3",
   "version": "3.7.4"
  }
 },
 "nbformat": 4,
 "nbformat_minor": 2
}
